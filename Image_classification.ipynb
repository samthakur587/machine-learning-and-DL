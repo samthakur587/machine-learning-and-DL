{
  "nbformat": 4,
  "nbformat_minor": 0,
  "metadata": {
    "colab": {
      "name": "Image classification.ipynb",
      "provenance": [],
      "mount_file_id": "1v5KR5tNT1H3FuvDXfrt8RLjvT7vcI8AM",
      "authorship_tag": "ABX9TyM8X37r46DixeiPIpOWZ88m",
      "include_colab_link": true
    },
    "kernelspec": {
      "name": "python3",
      "display_name": "Python 3"
    },
    "language_info": {
      "name": "python"
    }
  },
  "cells": [
    {
      "cell_type": "markdown",
      "metadata": {
        "id": "view-in-github",
        "colab_type": "text"
      },
      "source": [
        "<a href=\"https://colab.research.google.com/github/samthakur587/machine-learning-and-DL/blob/main/Image_classification.ipynb\" target=\"_parent\"><img src=\"https://colab.research.google.com/assets/colab-badge.svg\" alt=\"Open In Colab\"/></a>"
      ]
    },
    {
      "cell_type": "code",
      "metadata": {
        "id": "Bh9jIdPCD_FQ"
      },
      "source": [
        "!pip install bing_image_downloader\n"
      ],
      "execution_count": null,
      "outputs": []
    },
    {
      "cell_type": "code",
      "metadata": {
        "id": "I2nfOZxD-3R9"
      },
      "source": [
        "!mkdir images\n",
        "from bing_image_downloader import downloader\n",
        "downloader.download(\"Supercars\",limit=20,output_dir='images',\n",
        "                    adult_filter_off=True)"
      ],
      "execution_count": null,
      "outputs": []
    },
    {
      "cell_type": "code",
      "metadata": {
        "id": "BT1SEyWG_HpG"
      },
      "source": [
        "downloader.download(\"Moto Guzzi 850 ElDorado\",limit=20,output_dir='images',\n",
        "                    adult_filter_off=True)"
      ],
      "execution_count": null,
      "outputs": []
    },
    {
      "cell_type": "code",
      "metadata": {
        "id": "uax8Oti5Hiv_"
      },
      "source": [
        "downloader.download(\"Amazing Rose Flowers\",limit=20,output_dir='images',\n",
        "                    adult_filter_off=True)"
      ],
      "execution_count": null,
      "outputs": []
    },
    {
      "cell_type": "code",
      "metadata": {
        "id": "G1Uf8E9bT6jF"
      },
      "source": [
        "import pandas as pd\n",
        "import matplotlib.pyplot as plt\n",
        "from skimage.io import imread\n",
        "from skimage.transform import resize"
      ],
      "execution_count": 5,
      "outputs": []
    },
    {
      "cell_type": "code",
      "metadata": {
        "id": "9GCkZPFAUU2Z"
      },
      "source": [
        "import numpy as np\n",
        "\n",
        "import os\n",
        "datadir = '/content/images'\n",
        "cat = ['Bike','Car','Rose']\n",
        "target = []\n",
        "images = []\n",
        "flat_data = []\n",
        "for i in cat:\n",
        "  class_num = cat.index(i)\n",
        "  path = os.path.join(datadir,i)\n",
        "  for img in os.listdir(path):\n",
        "    img_array = imread(os.path.join(path,img))\n",
        "    #plt.imshow(img_array)\n",
        "    #plt.show()\n",
        "    img_resize = resize(img_array,(150,150,3)) # value gets convert 0-1 from 0-255\n",
        "    flat_data.append(np.ndarray.flatten(img_resize))\n",
        "    target.append(class_num)\n",
        "    images.append(img_resize)\n",
        "flat_data = np.array(flat_data)\n",
        "target = np.array(target)\n",
        "images = np.array(images)\n",
        "\n",
        "\n",
        "  "
      ],
      "execution_count": 6,
      "outputs": []
    },
    {
      "cell_type": "code",
      "metadata": {
        "id": "BLyEOYM2YD8K"
      },
      "source": [
        "from sklearn.model_selection import train_test_split\n",
        "x_train,x_test,y_train,y_test = train_test_split(flat_data,target,test_size=0.3, random_state=0)"
      ],
      "execution_count": 7,
      "outputs": []
    },
    {
      "cell_type": "code",
      "metadata": {
        "id": "j0-8d6RgMObv"
      },
      "source": [
        "from sklearn.svm import SVC\n",
        "model = SVC(C=10)\n",
        "#model = SVC(C= 1, kernel= 'rbf')\n",
        "model.fit(x_train,y_train)\n",
        "y_pred = model.predict(x_test)\n",
        "y_pred"
      ],
      "execution_count": null,
      "outputs": []
    },
    {
      "cell_type": "code",
      "metadata": {
        "id": "NF5t6EeWMmRm"
      },
      "source": [
        "from sklearn.model_selection import GridSearchCV\n",
        "param_grid = {'C':[0.1,1,10,100],\n",
        "              'kernel':['linear','rbf']\n",
        "              }\n",
        "\n",
        "grid = GridSearchCV(SVC(),param_grid)\n",
        "grid.fit(x_train,y_train)"
      ],
      "execution_count": null,
      "outputs": []
    },
    {
      "cell_type": "code",
      "metadata": {
        "id": "peReWVWeJTmO"
      },
      "source": [
        "grid.best_params_"
      ],
      "execution_count": null,
      "outputs": []
    },
    {
      "cell_type": "code",
      "metadata": {
        "id": "jlFzISJcxk_c"
      },
      "source": [
        "y_test"
      ],
      "execution_count": null,
      "outputs": []
    },
    {
      "cell_type": "code",
      "metadata": {
        "id": "arjWJa6Sw4Pd"
      },
      "source": [
        "from sklearn.metrics import confusion_matrix , classification_report , accuracy_score\n",
        "confusion_matrix(y_pred,y_test)\n"
      ],
      "execution_count": null,
      "outputs": []
    },
    {
      "cell_type": "code",
      "metadata": {
        "id": "W1W9DurQxIxD"
      },
      "source": [
        "accuracy_score(y_pred,y_test)"
      ],
      "execution_count": null,
      "outputs": []
    },
    {
      "cell_type": "code",
      "metadata": {
        "id": "vQZvm42ox4wl"
      },
      "source": [
        "print(classification_report(y_pred,y_test))\n",
        "\n"
      ],
      "execution_count": null,
      "outputs": []
    },
    {
      "cell_type": "code",
      "metadata": {
        "id": "yMALcYgL7jhk"
      },
      "source": [
        "# save the model using pickle library\n",
        "import pickle\n",
        "pickle.dump(grid,open('img_model.p','wb'))\n"
      ],
      "execution_count": 19,
      "outputs": []
    },
    {
      "cell_type": "code",
      "metadata": {
        "id": "Smz-_1t08X1_"
      },
      "source": [
        "model = pickle.load(open('img_model.p','rb'))"
      ],
      "execution_count": 20,
      "outputs": []
    },
    {
      "cell_type": "code",
      "metadata": {
        "id": "aaoxapgF9JNn"
      },
      "source": [
        "#testing a new image \n",
        "flat_data = []\n",
        "url = input('ENTER YOUR URL' )\n",
        "img = imread(url)\n",
        "img_resize = resize(img,(150,150,3))\n",
        "flat_data.append(img_resize.flatten())\n",
        "flat_data = np.array(flat_data)\n",
        "plt.imshow(img_resize)\n",
        "y_out = model.predict(flat_data)\n",
        "y_out = cat[y_out[0]]\n",
        "print(f' PREDICTED OUTPUT: {y_out}')\n"
      ],
      "execution_count": null,
      "outputs": []
    },
    {
      "cell_type": "code",
      "metadata": {
        "id": "MSuhDPw1E4dr"
      },
      "source": [
        ""
      ],
      "execution_count": null,
      "outputs": []
    }
  ]
}